{
 "cells": [
  {
   "cell_type": "code",
   "execution_count": 2,
   "id": "d46e6bbf",
   "metadata": {},
   "outputs": [],
   "source": [
    "# Importing Lib\n",
    "import numpy as np\n",
    "import matplotlib.pyplot as plt \n"
   ]
  },
  {
   "cell_type": "code",
   "execution_count": 19,
   "id": "5b3e3ce2",
   "metadata": {},
   "outputs": [
    {
     "name": "stdout",
     "output_type": "stream",
     "text": [
      "[ 1  3  5  7  9 11 13 15 17 19]\n",
      "[ 3  5  9 15]\n",
      "[[ 7  9]\n",
      " [11 13]]\n"
     ]
    }
   ],
   "source": [
    "a = np.arange(1,20,2)\n",
    "print(a)\n",
    "i=[1,2,4,7]\n",
    "print(a[i])\n",
    "\n",
    "na = np.array([[3,4],[5,6]])\n",
    "print(a[na])\n"
   ]
  },
  {
   "cell_type": "code",
   "execution_count": 38,
   "id": "7d39385b",
   "metadata": {},
   "outputs": [],
   "source": [
    "#plot a function\n",
    "%matplotlib inline\n",
    "x=np.linspace(0,3,10)\n",
    "y= np.sin(x)\n",
    "\n",
    "# plt.plot(x,y)"
   ]
  },
  {
   "cell_type": "code",
   "execution_count": 129,
   "id": "19425101",
   "metadata": {},
   "outputs": [
    {
     "name": "stdout",
     "output_type": "stream",
     "text": [
      "3\n",
      "[[0.57983563 0.4691448  0.88113402 0.92375116]]\n",
      "[1 2 4 8]\n"
     ]
    }
   ],
   "source": [
    "# random\n",
    "# a= np.random(1,4)\n",
    "n= np.random.rand(1,4)\n",
    "\n",
    "b= np.random.randint(0,10)\n",
    "print(b)\n",
    "print(n)\n",
    "v=np.arange(4)\n",
    "print(2**v)\n"
   ]
  },
  {
   "cell_type": "code",
   "execution_count": null,
   "id": "f46d3d64",
   "metadata": {},
   "outputs": [],
   "source": [
    "##### vector vise\n",
    "b=np.arange(4)\n",
    "a= np.ones(4)+1\n",
    "print(b)\n",
    "print(a)\n",
    "print(a-b)\n",
    "\n",
    "ne=np.exp(b)\n",
    "print(ne)\n",
    "\n",
    "\n",
    "c= np.triu(np.arange(16).reshape(4,4), )\n",
    "print(c)\n",
    "\n",
    "t= np.tile(np.arange(0, 40, 10), (3, 2)).T\n",
    "print(t)"
   ]
  },
  {
   "cell_type": "code",
   "execution_count": 154,
   "id": "3dbbbb57",
   "metadata": {},
   "outputs": [
    {
     "name": "stdout",
     "output_type": "stream",
     "text": [
      "[[1]\n",
      " [2]\n",
      " [3]\n",
      " [4]]\n",
      "[[1 2 3 4]]\n"
     ]
    }
   ],
   "source": [
    "# reshaping data \n",
    "a= np.arange(1,5)[:,np.newaxis]\n",
    "b= np.arange(1,5)[np.newaxis,:]\n",
    "\n",
    "print(a)\n",
    "print(b)"
   ]
  },
  {
   "cell_type": "code",
   "execution_count": 226,
   "id": "4a486c97",
   "metadata": {},
   "outputs": [
    {
     "name": "stdout",
     "output_type": "stream",
     "text": [
      "[[0.08260301 0.6895592  0.95573839]\n",
      " [0.20419071 0.4610337  0.30122297]]\n",
      "[[-0.94853939 -0.52292481  1.12023296]\n",
      " [-0.90635434 -0.48518177 -0.92063613]]\n",
      "[[2 2 1]\n",
      " [4 3 4]]\n",
      "[[0.97276619 0.84697451 0.33447814]\n",
      " [0.58699054 0.90671017 0.40306832]]\n",
      "[[-1.09482924  1.88393823  0.47162511]\n",
      " [-0.17088123  0.58124384 -0.12042258]]\n"
     ]
    }
   ],
   "source": [
    "# importing numpy random\n",
    "import numpy.random as npr\n",
    "npr.seed(201300)\n",
    "\n",
    "a= npr.random(2)\n",
    "# print(a)\n",
    "\n",
    "# random data generation\n",
    "print(npr.rand(2,3))\n",
    "print(npr.randn(2,3))\n",
    "\n",
    "print(npr.randint(1,5, size=(2,3)))\n",
    "\n",
    "print(np.random.rand(2,3))\n",
    "print(np.random.randn(2,3))"
   ]
  },
  {
   "cell_type": "code",
   "execution_count": 256,
   "id": "1b6c5e83",
   "metadata": {},
   "outputs": [
    {
     "name": "stdout",
     "output_type": "stream",
     "text": [
      "[30 31 32 33 34 35 36 37 38 39]\n",
      "[39 34 31 33 30]\n",
      "[[32 37]\n",
      " [36 33]]\n"
     ]
    }
   ],
   "source": [
    "# random number by choice\n",
    "x=np.arange(30,40)\n",
    "print(x)\n",
    "c= npr.choice(x,5, replace=False)\n",
    "d= npr.choice(x,(2,2), replace=False)\n",
    "\n",
    "print(c)\n",
    "print(d)"
   ]
  },
  {
   "cell_type": "code",
   "execution_count": 272,
   "id": "3d61dd2c",
   "metadata": {},
   "outputs": [
    {
     "name": "stdout",
     "output_type": "stream",
     "text": [
      "1000000\n",
      "[[ 0.8045188  -0.19092999]\n",
      " [ 0.50584185  0.15135821]\n",
      " [-0.0047381   0.00494258]\n",
      " [-0.45659798  0.57300261]\n",
      " [-0.36433896  0.47170543]\n",
      " [ 0.96468227 -0.73833645]\n",
      " [ 0.76793424  0.93487244]\n",
      " [ 0.76340349 -0.33864684]\n",
      " [ 0.93373213  0.24894146]\n",
      " [ 0.17859801 -0.34217512]]\n"
     ]
    },
    {
     "data": {
      "text/plain": [
       "(-1.0, 1.0, -1.0, 1.0)"
      ]
     },
     "execution_count": 272,
     "metadata": {},
     "output_type": "execute_result"
    },
    {
     "data": {
      "image/png": "[encoded data removed]",
      "text/plain": [
       "<Figure size 432x288 with 1 Axes>"
      ]
     },
     "metadata": {
      "needs_background": "light"
     },
     "output_type": "display_data"
    }
   ],
   "source": [
    "# probability distribtion Function\n",
    "n = int(1e6)\n",
    "print(n)\n",
    "\n",
    "u= npr.uniform(-1,1,(10,2))\n",
    "print(u)\n",
    "plt.scatter(u[:,0],u[:,1], )\n",
    "plt.axis([-1,1,-1,1])"
   ]
  },
  {
   "cell_type": "code",
   "execution_count": 3,
   "id": "1e96b9fe",
   "metadata": {},
   "outputs": [
    {
     "name": "stdout",
     "output_type": "stream",
     "text": [
      "[[0.  0.1 0.2 0.3 0.4 0.5 0.6 0.7 0.8 0.9]\n",
      " [1.  1.1 1.2 1.3 1.4 1.5 1.6 1.7 1.8 1.9]\n",
      " [2.  2.1 2.2 2.3 2.4 2.5 2.6 2.7 2.8 2.9]\n",
      " [3.  3.1 3.2 3.3 3.4 3.5 3.6 3.7 3.8 3.9]\n",
      " [4.  4.1 4.2 4.3 4.4 4.5 4.6 4.7 4.8 4.9]\n",
      " [5.  5.1 5.2 5.3 5.4 5.5 5.6 5.7 5.8 5.9]]\n",
      "[[0.  0.  0.  0.  0.  0.5 0.6 0.7 0.8 0.9]\n",
      " [0.  0.  0.  0.  1.4 1.5 1.6 1.7 1.8 1.9]\n",
      " [0.  0.  0.  0.  2.4 2.5 2.6 2.7 2.8 2.9]\n",
      " [0.  0.  0.  0.  3.4 3.5 3.6 3.7 3.8 3.9]\n",
      " [0.  0.  0.  0.  4.4 4.5 4.6 4.7 4.8 4.9]\n",
      " [0.  0.  0.  0.  5.4 5.5 5.6 5.7 5.8 5.9]]\n",
      "[[0.  0.  0.  0.  0.  0.5 0.6 0.7 0.8 0.9]\n",
      " [0.  0.  0.  0.  1.4 1.5 1.6 1.7 1.8 1.9]\n",
      " [0.  0.  0.  0.  2.4 2.5 2.6 2.7 2.8 2.9]\n",
      " [0.  0.  0.  0.  3.4 3.5 3.6 3.7 3.8 3.9]\n",
      " [0.  0.  0.  0.  4.4 4.5 4.6 4.7 4.8 4.9]\n",
      " [0.  0.  0.  0.  5.4 5.5 5.6 5.7 5.8 5.9]]\n"
     ]
    }
   ],
   "source": [
    "# exercise 4\n",
    "\n",
    "n= np.arange(0,6,0.1).reshape(6,10)\n",
    "print(n)\n",
    "\n",
    "n[n%1<=0.4]=0\n",
    "# mask=[n%1<=0.4]\n",
    "print(n)\n",
    "\n",
    "x=np.array([i*0.1 for i in range(60)]).reshape(6,10)\n",
    "\n",
    "for i in range(len(n)):\n",
    "    for j in range(len(n[0])):\n",
    "#         print(len(n[0]))\n",
    "        if(n[i][j]%1<0.4):\n",
    "            n[i][j]=0\n",
    "\n",
    "print(n)"
   ]
  },
  {
   "cell_type": "code",
   "execution_count": 12,
   "id": "be8b9e92",
   "metadata": {},
   "outputs": [
    {
     "name": "stdout",
     "output_type": "stream",
     "text": [
      "[0.         0.06346652 0.12693304 0.19039955 0.25386607 0.31733259\n",
      " 0.38079911 0.44426563 0.50773215 0.57119866 0.63466518 0.6981317\n",
      " 0.76159822 0.82506474 0.88853126 0.95199777 1.01546429 1.07893081\n",
      " 1.14239733 1.20586385 1.26933037 1.33279688 1.3962634  1.45972992\n",
      " 1.52319644 1.58666296 1.65012947 1.71359599 1.77706251 1.84052903\n",
      " 1.90399555 1.96746207 2.03092858 2.0943951  2.15786162 2.22132814\n",
      " 2.28479466 2.34826118 2.41172769 2.47519421 2.53866073 2.60212725\n",
      " 2.66559377 2.72906028 2.7925268  2.85599332 2.91945984 2.98292636\n",
      " 3.04639288 3.10985939 3.17332591 3.23679243 3.30025895 3.36372547\n",
      " 3.42719199 3.4906585  3.55412502 3.61759154 3.68105806 3.74452458\n",
      " 3.8079911  3.87145761 3.93492413 3.99839065 4.06185717 4.12532369\n",
      " 4.1887902  4.25225672 4.31572324 4.37918976 4.44265628 4.5061228\n",
      " 4.56958931 4.63305583 4.69652235 4.75998887 4.82345539 4.88692191\n",
      " 4.95038842 5.01385494 5.07732146 5.14078798 5.2042545  5.26772102\n",
      " 5.33118753 5.39465405 5.45812057 5.52158709 5.58505361 5.64852012\n",
      " 5.71198664 5.77545316 5.83891968 5.9023862  5.96585272 6.02931923\n",
      " 6.09278575 6.15625227 6.21971879 6.28318531]\n"
     ]
    }
   ],
   "source": [
    "#creating array of numpy using slice index\n",
    "pi=np.pi\n",
    "n= np.linspace(0,2*pi,100)\n",
    "print(n)\n",
    "\n"
   ]
  },
  {
   "cell_type": "code",
   "execution_count": 16,
   "id": "8722cded",
   "metadata": {},
   "outputs": [
    {
     "name": "stdout",
     "output_type": "stream",
     "text": [
      "[0.         0.63466518 1.26933037 1.90399555 2.53866073 3.17332591\n",
      " 3.8079911  4.44265628 5.07732146 5.71198664]\n"
     ]
    }
   ],
   "source": [
    "# extract every 10 element\n",
    "print(n[::10])\n",
    "\n",
    "# print(n[::-1])"
   ]
  },
  {
   "cell_type": "code",
   "execution_count": 59,
   "id": "0dafe473",
   "metadata": {},
   "outputs": [
    {
     "name": "stdout",
     "output_type": "stream",
     "text": [
      "[1.         0.93456276 0.86536236 0.79267745 0.71680071 0.63803767\n",
      " 0.55670548 0.47313163 0.38765264 0.30061272 0.21236233 0.12325683\n",
      " 0.03365503 0.0560823  0.07849545 0.01121928 0.10088884 0.19015215\n",
      " 0.27864979 0.3660254  0.45192716 0.53600917 0.61793286 0.69736834\n",
      " 0.77399578 0.8475066  0.91760482 0.98400816 1.04644926 1.10467666\n",
      " 1.15845593 1.2075705  1.25182262 1.29103408 1.32504701 1.35372444\n",
      " 1.3769509  1.39463286 1.40669913 1.41310112 1.41381305 1.40883205\n",
      " 1.39817819 1.38189435 1.36004611 1.33272145 1.30003039 1.26210456\n",
      " 1.21909669 1.17117994 1.11854727 1.0614106  1.        ]\n"
     ]
    }
   ],
   "source": [
    "# difference\n",
    "si= np.sin(n)\n",
    "co=np.cos(n)\n",
    "di=si-co\n",
    "# print(abs(di))\n",
    "di=di[di<0.1]\n",
    "print(abs(di))\n",
    "\n",
    "\n"
   ]
  },
  {
   "cell_type": "code",
   "execution_count": 60,
   "id": "ddb26c77",
   "metadata": {},
   "outputs": [
    {
     "name": "stdout",
     "output_type": "stream",
     "text": [
      "[[0.7615982190520711, 0.8250647373064104, 3.8714576135146945, 3.934924131769034]]\n"
     ]
    },
    {
     "data": {
      "text/plain": [
       "<matplotlib.collections.PathCollection at 0x19eb738aa60>"
      ]
     },
     "execution_count": 60,
     "metadata": {},
     "output_type": "execute_result"
    },
    {
     "data": {
      "image/png": "[encoded data removed]",
      "text/plain": [
       "<Figure size 432x288 with 1 Axes>"
      ]
     },
     "metadata": {
      "needs_background": "light"
     },
     "output_type": "display_data"
    }
   ],
   "source": [
    "res=[]\n",
    "res.append([i for i in n if (abs(np.sin(i)-np.cos(i)))<0.1])\n",
    "print(res)\n",
    "\n",
    "%matplotlib inline\n",
    "plt.plot(n,si)\n",
    "plt.plot(n,co)\n",
    "# plt.axis([0,100,-1,1])\n",
    "plt.scatter(res,np.cos(res))"
   ]
  },
  {
   "cell_type": "code",
   "execution_count": 84,
   "id": "6241b350",
   "metadata": {},
   "outputs": [
    {
     "name": "stdout",
     "output_type": "stream",
     "text": [
      "[[  1   2   3   4   5   6   7   8   9  10]\n",
      " [ 11  12  13  14  15  16  17  18  19  20]\n",
      " [ 21  22  23  24  25  26  27  28  29  30]\n",
      " [ 31  32  33  34  35  36  37  38  39  40]\n",
      " [ 41  42  43  44  45  46  47  48  49  50]\n",
      " [ 51  52  53  54  55  56  57  58  59  60]\n",
      " [ 61  62  63  64  65  66  67  68  69  70]\n",
      " [ 71  72  73  74  75  76  77  78  79  80]\n",
      " [ 81  82  83  84  85  86  87  88  89  90]\n",
      " [ 91  92  93  94  95  96  97  98  99 100]]\n",
      "505\n",
      "505\n",
      "[ 4 15 26 37 48 59 70]\n",
      "[10 19 28 37 46 55 64 73 82 91]\n",
      "[10 19 28 37 46 55 64 73 82 91]\n"
     ]
    }
   ],
   "source": [
    "# next exercise\n",
    "n= np.arange(1,101).reshape(10,10)\n",
    "print(n)\n",
    "d=np.diag(n)\n",
    "t=np.trace(n)\n",
    "d=sum(d)\n",
    "print(d)\n",
    "print(t)\n",
    "\n",
    "\n",
    "# e=np.array([[i*j for j in range(1,11)] for i in range(1,11)])\n",
    "# e=np.array([i for i in range(1,101)])\n",
    "\n",
    "# print(e.reshape(10,10))\n",
    "\n",
    "\n",
    "print(np.diag(n,3))\n",
    "x= np.arange(1,101).reshape(10,10)\n",
    "\n",
    "an=np.fliplr(x)\n",
    "an=np.diag(an)\n",
    "print(an)\n",
    "print(an)"
   ]
  },
  {
   "cell_type": "code",
   "execution_count": 100,
   "id": "4874d27a",
   "metadata": {},
   "outputs": [
    {
     "name": "stdout",
     "output_type": "stream",
     "text": [
      "Amarillo\n",
      "[0 0 0 0 0 0 0 0 0 0]\n",
      "[[   0]\n",
      " [ 198]\n",
      " [ 303]\n",
      " [ 736]\n",
      " [ 871]\n",
      " [1175]\n",
      " [1475]\n",
      " [1544]\n",
      " [1913]\n",
      " [2448]]\n",
      "[[   0  198  303  736  871 1175 1475 1544 1913 2448]\n",
      " [ 198    0  105  538  673  977 1277 1346 1715 2250]\n",
      " [ 303  105    0  433  568  872 1172 1241 1610 2145]\n",
      " [ 736  538  433    0  135  439  739  808 1177 1712]\n",
      " [ 871  673  568  135    0  304  604  673 1042 1577]\n",
      " [1175  977  872  439  304    0  300  369  738 1273]\n",
      " [1475 1277 1172  739  604  300    0   69  438  973]\n",
      " [1544 1346 1241  808  673  369   69    0  369  904]\n",
      " [1913 1715 1610 1177 1042  738  438  369    0  535]\n",
      " [2448 2250 2145 1712 1577 1273  973  904  535    0]]\n",
      "the distance beween Springfield and  Tulsa is 538\n"
     ]
    }
   ],
   "source": [
    "# broadcasting\n",
    "mile=np.array([0, 198, 303, 736, 871, 1175, 1475, 1544, 1913, 2448])\n",
    "usc=[\"Chicago\", \"Springfield\", \"Saint-Louis\", \"Tulsa\", \"Oklahoma City\", \"Amarillo\", \"Santa Fe\", \"Albuquerque\",\n",
    "     \"Flagstaff\", \"Los Angeles\"]\n",
    "print(usc[5])\n",
    "\n",
    "dis = mile-mile \n",
    "print(dis)\n",
    "\n",
    "mile2=mile[:,np.newaxis]\n",
    "\n",
    "mile3=mile.reshape(10,1)\n",
    "print(mile3)\n",
    "\n",
    "di=mile-mile3\n",
    "print(abs(di))\n",
    "\n",
    "\n",
    "print(\"the distance beween\",usc[1],\"and \",usc[3],\"is\",di[1,3])"
   ]
  }
 ],
 "metadata": {
  "kernelspec": {
   "display_name": "Python 3 (ipykernel)",
   "language": "python",
   "name": "python3"
  },
  "language_info": {
   "codemirror_mode": {
    "name": "ipython",
    "version": 3
   },
   "file_extension": ".py",
   "mimetype": "text/x-python",
   "name": "python",
   "nbconvert_exporter": "python",
   "pygments_lexer": "ipython3",
   "version": "3.9.7"
  }
 },
 "nbformat": 4,
 "nbformat_minor": 5
}
