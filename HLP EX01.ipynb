{
 "cells": [
  {
   "cell_type": "code",
   "execution_count": 34,
   "id": "f1e725a7",
   "metadata": {},
   "outputs": [
    {
     "name": "stdout",
     "output_type": "stream",
     "text": [
      "1\n",
      "2\n",
      "Hello\n",
      "4\n",
      "World\n",
      "Hello\n",
      "7\n",
      "8\n",
      "Hello\n",
      "World\n",
      "11\n",
      "Hello\n",
      "13\n",
      "14\n",
      "HelloWorld\n",
      "16\n",
      "17\n",
      "Hello\n",
      "19\n",
      "World\n",
      "Hello\n",
      "22\n",
      "23\n",
      "Hello\n",
      "World\n",
      "26\n",
      "Hello\n",
      "28\n",
      "29\n",
      "HelloWorld\n",
      "31\n",
      "32\n",
      "Hello\n",
      "34\n",
      "World\n",
      "Hello\n",
      "37\n",
      "38\n",
      "Hello\n",
      "World\n",
      "41\n",
      "Hello\n",
      "43\n",
      "44\n",
      "HelloWorld\n",
      "46\n",
      "47\n",
      "Hello\n",
      "49\n",
      "World\n",
      "Hello\n",
      "52\n",
      "53\n",
      "Hello\n",
      "World\n",
      "56\n",
      "Hello\n",
      "58\n",
      "59\n",
      "HelloWorld\n",
      "61\n",
      "62\n",
      "Hello\n",
      "64\n",
      "World\n",
      "Hello\n",
      "67\n",
      "68\n",
      "Hello\n",
      "World\n",
      "71\n",
      "Hello\n",
      "73\n",
      "74\n",
      "HelloWorld\n",
      "76\n",
      "77\n",
      "Hello\n",
      "79\n",
      "World\n",
      "Hello\n",
      "82\n",
      "83\n",
      "Hello\n",
      "World\n",
      "86\n",
      "Hello\n",
      "88\n",
      "89\n",
      "HelloWorld\n",
      "91\n",
      "92\n",
      "Hello\n",
      "94\n",
      "World\n",
      "Hello\n",
      "97\n",
      "98\n",
      "Hello\n",
      "World\n"
     ]
    },
    {
     "ename": "IndexError",
     "evalue": "list index out of range",
     "output_type": "error",
     "traceback": [
      "\u001b[1;31m---------------------------------------------------------------------------\u001b[0m",
      "\u001b[1;31mIndexError\u001b[0m                                Traceback (most recent call last)",
      "\u001b[1;32m~\\AppData\\Local\\Temp/ipykernel_4224/1889265870.py\u001b[0m in \u001b[0;36m<module>\u001b[1;34m\u001b[0m\n\u001b[0;32m     16\u001b[0m \u001b[0mc\u001b[0m\u001b[1;33m=\u001b[0m\u001b[1;33m[\u001b[0m\u001b[1;33m]\u001b[0m\u001b[1;33m\u001b[0m\u001b[1;33m\u001b[0m\u001b[0m\n\u001b[0;32m     17\u001b[0m \u001b[1;32mfor\u001b[0m \u001b[0mz\u001b[0m \u001b[1;32min\u001b[0m \u001b[0mrange\u001b[0m\u001b[1;33m(\u001b[0m\u001b[1;36m1\u001b[0m\u001b[1;33m,\u001b[0m\u001b[1;36m100\u001b[0m\u001b[1;33m)\u001b[0m\u001b[1;33m:\u001b[0m\u001b[1;33m\u001b[0m\u001b[1;33m\u001b[0m\u001b[0m\n\u001b[1;32m---> 18\u001b[1;33m     \u001b[1;32mif\u001b[0m \u001b[0mb\u001b[0m\u001b[1;33m[\u001b[0m\u001b[0mz\u001b[0m\u001b[1;33m]\u001b[0m\u001b[1;33m==\u001b[0m\u001b[1;34m\"helloworld\"\u001b[0m\u001b[1;33m:\u001b[0m\u001b[1;33m\u001b[0m\u001b[1;33m\u001b[0m\u001b[0m\n\u001b[0m\u001b[0;32m     19\u001b[0m         \u001b[0mc\u001b[0m\u001b[1;33m.\u001b[0m\u001b[0mappend\u001b[0m\u001b[1;33m(\u001b[0m\u001b[1;34m\"pythonworks\"\u001b[0m\u001b[1;33m)\u001b[0m\u001b[1;33m\u001b[0m\u001b[1;33m\u001b[0m\u001b[0m\n\u001b[0;32m     20\u001b[0m     \u001b[1;32melif\u001b[0m \u001b[0mb\u001b[0m\u001b[1;33m[\u001b[0m\u001b[0mz\u001b[0m\u001b[1;33m]\u001b[0m\u001b[1;33m==\u001b[0m\u001b[1;34m\"hello\"\u001b[0m\u001b[1;33m:\u001b[0m\u001b[1;33m\u001b[0m\u001b[1;33m\u001b[0m\u001b[0m\n",
      "\u001b[1;31mIndexError\u001b[0m: list index out of range"
     ]
    }
   ],
   "source": [
    "x=[x for x in range(100)]\n",
    "b=[]\n",
    "for j in range (1,101):\n",
    "    if j%3==0 and j%5==0:\n",
    "        b.insert(j,\"HelloWorld\")\n",
    "        print(\"HelloWorld\")\n",
    "    elif j%5==0:\n",
    "        b.insert(j,\"World\")\n",
    "        print(\"World\")\n",
    "    elif j%3==0:\n",
    "        b.insert(j,\"Hello\")\n",
    "        print(\"Hello\")\n",
    "    else:\n",
    "        print(j)\n",
    "\n",
    "c=[]\n",
    "for z in range(1,100):\n",
    "    if b[z]==\"helloworld\":\n",
    "        c.append(\"pythonworks\")\n",
    "    elif b[z]==\"hello\":\n",
    "        c.append(\"python\")\n",
    "    elif b[z]==\"world\":\n",
    "        c.append(\"works\")\n",
    "    else:\n",
    "        c.append(z)\n",
    "t=tuple(c)\n",
    "print(t)"
   ]
  },
  {
   "cell_type": "markdown",
   "id": "b8b5ad25",
   "metadata": {},
   "source": [
    "x=input(\"enter your first value\")\n",
    "b=input(\"Enter 2nd value\")\n",
    "print(x,b)\n",
    "b=3\n",
    "c=4\n",
    "print(c+b)\n",
    "type(x)\n",
    "type(c)\n"
   ]
  },
  {
   "cell_type": "markdown",
   "id": "72e2ecfa",
   "metadata": {},
   "source": [
    "Function Declaration"
   ]
  },
  {
   "cell_type": "code",
   "execution_count": 31,
   "id": "9c4f2ae5",
   "metadata": {},
   "outputs": [
    {
     "ename": "IndexError",
     "evalue": "list index out of range",
     "output_type": "error",
     "traceback": [
      "\u001b[1;31m---------------------------------------------------------------------------\u001b[0m",
      "\u001b[1;31mIndexError\u001b[0m                                Traceback (most recent call last)",
      "\u001b[1;32m~\\AppData\\Local\\Temp/ipykernel_4224/765308387.py\u001b[0m in \u001b[0;36m<module>\u001b[1;34m\u001b[0m\n\u001b[0;32m      1\u001b[0m \u001b[0mc\u001b[0m\u001b[1;33m=\u001b[0m\u001b[1;33m[\u001b[0m\u001b[1;33m]\u001b[0m\u001b[1;33m\u001b[0m\u001b[1;33m\u001b[0m\u001b[0m\n\u001b[0;32m      2\u001b[0m \u001b[1;32mfor\u001b[0m \u001b[0mz\u001b[0m \u001b[1;32min\u001b[0m \u001b[0mrange\u001b[0m\u001b[1;33m(\u001b[0m\u001b[1;36m1\u001b[0m\u001b[1;33m,\u001b[0m\u001b[1;36m100\u001b[0m\u001b[1;33m)\u001b[0m\u001b[1;33m:\u001b[0m\u001b[1;33m\u001b[0m\u001b[1;33m\u001b[0m\u001b[0m\n\u001b[1;32m----> 3\u001b[1;33m     \u001b[1;32mif\u001b[0m \u001b[0mb\u001b[0m\u001b[1;33m[\u001b[0m\u001b[0mz\u001b[0m\u001b[1;33m]\u001b[0m\u001b[1;33m==\u001b[0m\u001b[1;34m\"helloworld\"\u001b[0m\u001b[1;33m:\u001b[0m\u001b[1;33m\u001b[0m\u001b[1;33m\u001b[0m\u001b[0m\n\u001b[0m\u001b[0;32m      4\u001b[0m         \u001b[0mc\u001b[0m\u001b[1;33m.\u001b[0m\u001b[0mappend\u001b[0m\u001b[1;33m(\u001b[0m\u001b[1;34m\"pythonworks\"\u001b[0m\u001b[1;33m)\u001b[0m\u001b[1;33m\u001b[0m\u001b[1;33m\u001b[0m\u001b[0m\n\u001b[0;32m      5\u001b[0m     \u001b[1;32melif\u001b[0m \u001b[0mb\u001b[0m\u001b[1;33m[\u001b[0m\u001b[0mz\u001b[0m\u001b[1;33m]\u001b[0m\u001b[1;33m==\u001b[0m\u001b[1;34m\"hello\"\u001b[0m\u001b[1;33m:\u001b[0m\u001b[1;33m\u001b[0m\u001b[1;33m\u001b[0m\u001b[0m\n",
      "\u001b[1;31mIndexError\u001b[0m: list index out of range"
     ]
    }
   ],
   "source": [
    "\n"
   ]
  },
  {
   "cell_type": "markdown",
   "id": "efd55e27",
   "metadata": {},
   "source": [
    "Function and without global variable"
   ]
  },
  {
   "cell_type": "code",
   "execution_count": 16,
   "id": "d41d13dd",
   "metadata": {},
   "outputs": [
    {
     "name": "stdout",
     "output_type": "stream",
     "text": [
      "Enter a Word that you likejawad asif\n",
      "['j', 'a', 'w', 'a', 'd', ' ', 'a', 's', 'i', 'f']\n",
      "Enter Characterj\n",
      "letter match\n",
      "You have  7 testing left\n",
      "Enter Characterd\n",
      "letter match\n",
      "You have  6 testing left\n",
      "Enter Characterf\n",
      "letter match\n",
      "You have  5 testing left\n",
      "Enter Characterd\n",
      "letter match\n",
      "You have  4 testing left\n",
      "Enter Characters\n",
      "letter match\n",
      "You have  3 testing left\n",
      "Enter Charactera\n",
      "letter match\n",
      "You have  2 testing left\n",
      "Enter Characters\n",
      "letter match\n",
      "You have  1 testing left\n",
      "Enter Characterd\n",
      "letter match\n",
      "You have 0 testing left\n"
     ]
    }
   ],
   "source": [
    "t=input(\"Enter a Word that you like\")\n",
    "r=[m for m in t ]\n",
    "print(r)\n",
    "\n",
    "#a=input(\"Enter First Character\")[0]\n",
    "\n",
    "#y=\"a\"\n",
    "i=0\n",
    "v=len(r)-2\n",
    "o=v\n",
    "while i<v:\n",
    "    y=input(\"Enter Character\")[0]\n",
    "    if(y in r):\n",
    "        print(\"letter match\")\n",
    "    else:\n",
    "        print(\"try again\")\n",
    "    i+=1\n",
    "    o-=1\n",
    "    if(o==0):\n",
    "        print(\"You have 0 testing left\")\n",
    "    else:\n",
    "        print(\"You have \",+o ,\"testing left\")\n",
    "  "
   ]
  },
  {
   "cell_type": "code",
   "execution_count": 2,
   "id": "19f5158d",
   "metadata": {},
   "outputs": [
    {
     "ename": "IndentationError",
     "evalue": "unindent does not match any outer indentation level (<tokenize>, line 3)",
     "output_type": "error",
     "traceback": [
      "\u001b[1;36m  File \u001b[1;32m\"<tokenize>\"\u001b[1;36m, line \u001b[1;32m3\u001b[0m\n\u001b[1;33m    else:\u001b[0m\n\u001b[1;37m    ^\u001b[0m\n\u001b[1;31mIndentationError\u001b[0m\u001b[1;31m:\u001b[0m unindent does not match any outer indentation level\n"
     ]
    }
   ],
   "source": [
    "  if(o==0):\n",
    "        print(\"You have 0 testing left\")\n",
    "    else:\n",
    "        print(\"You have \",+o ,\"testing left\")"
   ]
  },
  {
   "cell_type": "code",
   "execution_count": 13,
   "id": "1bed1939",
   "metadata": {},
   "outputs": [
    {
     "name": "stdout",
     "output_type": "stream",
     "text": [
      "The Binary representation of the  2 is =  0b10\n",
      "The Binary representation of the  2 is =  0x2\n",
      "Converting Back to Binary and Hexadecimal\n",
      "The Decimal Representation is 2\n",
      "The Hexa Decimal Representation is 2\n"
     ]
    }
   ],
   "source": [
    "def conversion(x):\n",
    "    b=bin(x)\n",
    "    print(\"The Binary representation of the \",x, \"is = \",b)\n",
    "    h=hex(x)\n",
    "    print(\"The Binary representation of the \",x, \"is = \",h)\n",
    "    \n",
    "    print(\"Converting Back to Binary and Hexadecimal\")\n",
    "    d=int(b,2)\n",
    "    print(\"The Decimal Representation is\",d)\n",
    "    print(\"The Hexa Decimal Representation is\", int(h,16))\n",
    "\n",
    "    \n",
    "conversion(2)"
   ]
  },
  {
   "cell_type": "code",
   "execution_count": 1,
   "id": "6049f53f",
   "metadata": {},
   "outputs": [
    {
     "name": "stdout",
     "output_type": "stream",
     "text": [
      "The resutl for Positive (+) is -1.0 and for Negative (-) is -5.0\n",
      "-0.43223563716997804\n",
      "-0.4031242374328487\n"
     ]
    }
   ],
   "source": [
    "import numpy as np\n",
    "# float_epsilon = np.finfo(float).eps\n",
    "# print(float_epsilon)\n",
    "\n",
    "\n",
    "def quadratic(a,b,c):\n",
    "    \n",
    "        re=(a*c)/(-b-(np.sqrt((b**2)-(a*c))))\n",
    "        re1=(a*c)/(-b-(np.sqrt((b**2)+(a*c))))\n",
    "\n",
    "        x1=(-b+(np.sqrt((b**2)-(4*a*c))))/2*a\n",
    "        x2=(-b-(np.sqrt((b**2)-(4*a*c))))/2*a\n",
    "        \n",
    "        print(\"The resutl for Positive (+) is {} and for Negative (-) is {}\".format(x1,x2))\n",
    "        print(re)\n",
    "        print(re1)\n",
    "   \n",
    "quadratic(1,6,5)\n",
    "\n",
    "\n",
    "# def quadratic1(a,b,c):\n",
    "#         x1=(-b+(np.sqrt((b**2)-(4*a*c))))\n",
    "#         x2=(-b-(np.sqrt((b**2)-(4*a*c))))\n",
    "        \n",
    "#         print(\"The resutl for Positive (+) is {} and for Negative (-) is {}\".format(x1,x2))\n",
    "        \n",
    "    \n",
    "# quadratic1(0.001,1000,0.001)\n",
    "    \n"
   ]
  },
  {
   "cell_type": "code",
   "execution_count": 6,
   "id": "82ee3b64",
   "metadata": {},
   "outputs": [
    {
     "name": "stdout",
     "output_type": "stream",
     "text": [
      "[[ 0  1  2  3]\n",
      " [ 4  5  6  7]\n",
      " [ 8  9 10 11]]\n",
      "5.5\n",
      "[4. 5. 6. 7.]\n",
      "[1.5 5.5 9.5]\n"
     ]
    }
   ],
   "source": [
    "import numpy as np\n",
    "m = np.arange(12).reshape((3,4))\n",
    "print(m)\n",
    "print(np.mean(m))\n",
    "print(np.mean(m,axis=0))\n",
    "print(np.mean(m,axis=1))\n",
    "\n",
    "\n",
    "\n"
   ]
  }
 ],
 "metadata": {
  "kernelspec": {
   "display_name": "Python 3",
   "language": "python",
   "name": "python3"
  },
  "language_info": {
   "codemirror_mode": {
    "name": "ipython",
    "version": 3
   },
   "file_extension": ".py",
   "mimetype": "text/x-python",
   "name": "python",
   "nbconvert_exporter": "python",
   "pygments_lexer": "ipython3",
   "version": "3.8.8"
  }
 },
 "nbformat": 4,
 "nbformat_minor": 5
}
