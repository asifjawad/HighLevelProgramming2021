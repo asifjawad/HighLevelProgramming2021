{
 "cells": [
  {
   "cell_type": "code",
   "execution_count": 2,
   "id": "eb96d296",
   "metadata": {},
   "outputs": [],
   "source": [
    "import numpy as np\n",
    "import itertools as it"
   ]
  },
  {
   "cell_type": "code",
   "execution_count": 21,
   "id": "fbaef7e1",
   "metadata": {},
   "outputs": [
    {
     "name": "stdout",
     "output_type": "stream",
     "text": [
      "1\n",
      "2\n",
      "hello\n",
      "4\n",
      "world\n",
      "hello\n",
      "7\n",
      "8\n",
      "hello\n",
      "world\n",
      "11\n",
      "hello\n",
      "13\n",
      "14\n",
      "Hello World\n",
      "16\n",
      "17\n",
      "hello\n",
      "19\n",
      "world\n",
      "hello\n",
      "22\n",
      "23\n",
      "hello\n",
      "world\n",
      "26\n",
      "hello\n",
      "28\n",
      "29\n",
      "Hello World\n",
      "31\n",
      "32\n",
      "hello\n",
      "34\n",
      "world\n",
      "hello\n",
      "37\n",
      "38\n",
      "hello\n",
      "world\n",
      "41\n",
      "hello\n",
      "43\n",
      "44\n",
      "Hello World\n",
      "46\n",
      "47\n",
      "hello\n",
      "49\n",
      "world\n",
      "hello\n",
      "52\n",
      "53\n",
      "hello\n",
      "world\n",
      "56\n",
      "hello\n",
      "58\n",
      "59\n",
      "Hello World\n",
      "61\n",
      "62\n",
      "hello\n",
      "64\n",
      "world\n",
      "hello\n",
      "67\n",
      "68\n",
      "hello\n",
      "world\n",
      "71\n",
      "hello\n",
      "73\n",
      "74\n",
      "Hello World\n",
      "76\n",
      "77\n",
      "hello\n",
      "79\n",
      "world\n",
      "hello\n",
      "82\n",
      "83\n",
      "hello\n",
      "world\n",
      "86\n",
      "hello\n",
      "88\n",
      "89\n",
      "Hello World\n",
      "91\n",
      "92\n",
      "hello\n",
      "94\n",
      "world\n",
      "hello\n",
      "97\n",
      "98\n",
      "hello\n",
      "world\n",
      "('1', '2', 'hello', '4', 'world', 'hello', '7', '8', 'hello', 'world', '11', 'hello', '13', '14', 'HelloWorld', '16', '17', 'hello', '19', 'world', 'hello', '22', '23', 'hello', 'world', '26', 'hello', '28', '29', 'HelloWorld', '31', '32', 'hello', '34', 'world', 'hello', '37', '38', 'hello', 'world', '41', 'hello', '43', '44', 'HelloWorld', '46', '47', 'hello', '49', 'world', 'hello', '52', '53', 'hello', 'world', '56', 'hello', '58', '59', 'HelloWorld', '61', '62', 'hello', '64', 'world', 'hello', '67', '68', 'hello', 'world', '71', 'hello', '73', '74', 'HelloWorld', '76', '77', 'hello', '79', 'world', 'hello', '82', '83', 'hello', 'world', '86', 'hello', '88', '89', 'HelloWorld', '91', '92', 'hello', '94', 'world', 'hello', '97', '98', 'hello', 'world')\n"
     ]
    }
   ],
   "source": [
    "# print number with multiple of three\n",
    "r=() #changing value in Tupel\n",
    "for i in range(1,101):\n",
    "    \n",
    "    if i%3==0 and i%5==0:\n",
    "        r+=(\"HelloWorld\",)\n",
    "        print(\"Hello World\")\n",
    "        \n",
    "    elif i%3==0:\n",
    "        r+=(\"hello\",)\n",
    "        print(\"hello\")\n",
    "        \n",
    "    elif i%5==0:\n",
    "        r+=(\"world\",)\n",
    "        print(\"world\")\n",
    "    else:\n",
    "        r+=(str(i),)\n",
    "        print(i)\n",
    "    \n",
    "\n",
    "print(r)"
   ]
  },
  {
   "cell_type": "code",
   "execution_count": 29,
   "id": "9aae1735",
   "metadata": {},
   "outputs": [
    {
     "name": "stdout",
     "output_type": "stream",
     "text": [
      "3\n",
      "2\n",
      "3 2\n"
     ]
    }
   ],
   "source": [
    "# swaping a function\n",
    "\n",
    "def swap(x,y):\n",
    "    x=x+y\n",
    "    y=x-y\n",
    "    x=x-y\n",
    "    print(x)\n",
    "    print(y)\n",
    "    \n",
    "swap(2,3)\n",
    "\n",
    "\n",
    "def swap1(v,z):\n",
    "    z,v=v,z\n",
    "    print(v,z)\n",
    "    \n",
    "swap1(2,3)"
   ]
  },
  {
   "cell_type": "code",
   "execution_count": 35,
   "id": "ed775196",
   "metadata": {},
   "outputs": [
    {
     "name": "stdout",
     "output_type": "stream",
     "text": [
      "5.0\n"
     ]
    }
   ],
   "source": [
    "import numpy as np\n",
    "u=(3,0)\n",
    "v=(0,4)\n",
    "\n",
    "# computing distance\n",
    "d=np.sqrt((u[0]-v[0])**2-(u[1]-v[1]**2))\n",
    "print(d)"
   ]
  },
  {
   "cell_type": "code",
   "execution_count": 44,
   "id": "8ca74351",
   "metadata": {},
   "outputs": [
    {
     "name": "stdout",
     "output_type": "stream",
     "text": [
      "{'h': 2, ' ': 5, 'w': 2, 'i': 4, 's': 1, 'g': 2, 'n': 2, 'l': 3, 'f': 1, 'o': 3, 'e': 2}\n"
     ]
    }
   ],
   "source": [
    "#counting string values in \n",
    "string =\"Hellow How is going in lifE\".lower()\n",
    "\n",
    "count1={x: string.count(x) for x in set(string)}\n",
    "print(\"\" +str(count1))"
   ]
  },
  {
   "cell_type": "code",
   "execution_count": 54,
   "id": "a538fa76",
   "metadata": {},
   "outputs": [
    {
     "name": "stdout",
     "output_type": "stream",
     "text": [
      "[ 1  3  5  8  9 10 16 18 19 20 24 30 31 33 34 36 37 39 41 42 45 47 50 51\n",
      " 53 54 55 56 57 58 63 64 66 70 72 74 75 79 81 82 84 85 86 87 88 89 90 91\n",
      " 92 94 95 96 98 99]\n",
      "[1 2 1 1 1 1 1 1 1 3 1 1 2 1 2 3 1 1 1 2 3 1 2 3 1 1 1 2 1 1 2 1 2 3 1 1 1\n",
      " 1 1 1 4 3 1 1 1 2 1 3 1 1 1 1 1 1]\n"
     ]
    }
   ],
   "source": [
    "l = [36, 45, 58, 3, 74, 96, 64, 45, 31, 10, 24, 19, 33, 86, 99, 18, 63, 70, 85,\n",
    " 85, 63, 47, 56, 42, 70, 84, 88, 55, 20, 54, 8, 56, 51, 79, 81, 57, 37, 91,\n",
    " 1, 84, 84, 36, 66, 9, 89, 50, 42, 91, 50, 95, 90, 98, 39, 16, 82, 31, 92, 41,\n",
    " 45, 30, 66, 70, 34, 85, 94, 5, 3, 36, 72, 91, 84, 34, 87, 75, 53, 51, 20, 89, 51, 20]\n",
    "\n",
    "values, count = np.unique(l, return_counts=True)\n",
    "\n",
    "print(values)\n",
    "print(count)\n",
    "\n"
   ]
  },
  {
   "cell_type": "code",
   "execution_count": 1,
   "id": "2fe5dac6",
   "metadata": {},
   "outputs": [
    {
     "name": "stdout",
     "output_type": "stream",
     "text": [
      "4\n",
      "8\n",
      "64\n"
     ]
    }
   ],
   "source": [
    "def square(x):\n",
    "    return x**2\n",
    "\n",
    "def cube(x):\n",
    "    return x**3\n",
    "\n",
    "def sixth(x):\n",
    "    return cube(square(x))\n",
    "print(square(2))\n",
    "print(cube(2))\n",
    "print(sixth(2))\n"
   ]
  },
  {
   "cell_type": "code",
   "execution_count": 8,
   "id": "d97b7cc9",
   "metadata": {},
   "outputs": [
    {
     "name": "stdout",
     "output_type": "stream",
     "text": [
      "[0, 1, 8, 27, 64, 125, 216, 343, 512, 729]\n",
      "0\n",
      "1\n",
      "8\n",
      "27\n",
      "64\n",
      "125\n",
      "216\n",
      "343\n",
      "512\n",
      "729\n"
     ]
    }
   ],
   "source": [
    "# list comprehension\n",
    "li=[x for x in range(0,10)]\n",
    "li2=[]\n",
    "for i in li:\n",
    "    li2.append(i**3)\n",
    "print(li2)\n",
    "\n",
    "\n",
    "# using without list comprehension\n",
    "\n",
    "for i in range(0,10):\n",
    "    print(i**3)\n",
    "\n",
    "\n",
    "    "
   ]
  },
  {
   "cell_type": "code",
   "execution_count": 7,
   "id": "b4a8503e",
   "metadata": {},
   "outputs": [
    {
     "name": "stdout",
     "output_type": "stream",
     "text": [
      "0\n",
      "4\n",
      "1\n",
      "2\n",
      "2\n",
      "4\n",
      "3\n",
      "6\n",
      "4\n",
      "1\n",
      "5\n",
      "6\n",
      "[0.6, 0.2, 0.6, 1.0, 0.0, 1.0]\n",
      "1 6\n",
      "(0.6, 0.2, 0.6, 1.0, 0.0, 1.0)\n"
     ]
    }
   ],
   "source": [
    "import numpy as np\n",
    "li=[4,2,4,6,1,6]\n",
    "\n",
    "\n",
    "min=np.min(li)\n",
    "max=np.max(li)\n",
    "\n",
    "for x,val in enumerate(li):\n",
    "    print(x)\n",
    "    print(val)\n",
    "    li[x]=(val-min)/(max-min)\n",
    "\n",
    "print(li)\n",
    "print(min,max)\n",
    "t=tuple(li)\n",
    "print(t)"
   ]
  },
  {
   "cell_type": "code",
   "execution_count": 43,
   "id": "7ab9bbd8",
   "metadata": {},
   "outputs": [
    {
     "name": "stdout",
     "output_type": "stream",
     "text": [
      "[1, 9, 25, 49, 81]\n"
     ]
    }
   ],
   "source": [
    "result=[]\n",
    "add=[]\n",
    "for i in range(3):\n",
    "    for j in range(4):\n",
    "        result.append([i,j])\n",
    "        add.append([i+j])\n",
    "# print(result)\n",
    "# print(add)\n",
    "\n",
    "\n",
    "#square of prime number\n",
    "\n",
    "\n",
    "# # x=[x for x in range(10)]\n",
    "# x=np.arange(10)\n",
    "# mask=[x%2!=0]\n",
    "# x=x[mask]\n",
    "# c=x.copy()\n",
    "# c=c*c\n",
    "# print(c)\n",
    "\n",
    "List_odd=map(lambda x:x*x, filter(lambda x:x%2==1 , range(10)))\n",
    "print(list(List_odd))"
   ]
  },
  {
   "cell_type": "code",
   "execution_count": 67,
   "id": "484957f6",
   "metadata": {},
   "outputs": [
    {
     "name": "stdout",
     "output_type": "stream",
     "text": [
      "[(0, 0), (0, 1), (0, 2), (0, 3), (1, 0), (1, 1), (1, 2), (1, 3), (2, 0), (2, 1), (2, 2), (2, 3)]\n",
      "[1, 9, 25, 49, 81]\n"
     ]
    }
   ],
   "source": [
    "#using List Comprehension\n",
    "\n",
    "list_1=[x for x in range(3)]\n",
    "list_2=[x for x in range(4)]\n",
    "product=it.product(list_1,list_2)\n",
    "\n",
    "\n",
    "print(list(product))\n",
    "\n",
    "\n",
    "li=[x for x in range(10)]\n",
    "product=[a*b for a,b in zip(li,li)]\n",
    "em=[]\n",
    "for i in product:\n",
    "    if i%2==1:\n",
    "        em.append(i)\n",
    "        \n",
    "print(em)"
   ]
  },
  {
   "cell_type": "code",
   "execution_count": 78,
   "id": "f81dea81",
   "metadata": {},
   "outputs": [
    {
     "name": "stdout",
     "output_type": "stream",
     "text": [
      "[0, 1, 2, 3, 4, 5, 6, 7, 8]\n"
     ]
    }
   ],
   "source": [
    "list_1=[x for x in range(3)]\n",
    "list_2=[x for x in range(3,9)]\n",
    "\n",
    "lis_3=list_1+list_2\n",
    "print(lis_3)"
   ]
  },
  {
   "cell_type": "code",
   "execution_count": 92,
   "id": "60aff448",
   "metadata": {},
   "outputs": [
    {
     "name": "stdout",
     "output_type": "stream",
     "text": [
      "[1, 2, 3, 4]\n",
      "[1, 2, 3, 4, 0, 1, 2, 3, 4]\n"
     ]
    }
   ],
   "source": [
    "def funt(alist):\n",
    "    alist=[1,2,3,4]\n",
    "    for x in range(5):\n",
    "        alist.append(x)\n",
    "    return alist\n",
    "    \n",
    "    \n",
    "alist=[1,2,3,4]\n",
    "v=funt(alist)\n",
    "print(alist)\n",
    "print(v)\n",
    "\n",
    "\n"
   ]
  },
  {
   "cell_type": "code",
   "execution_count": 95,
   "id": "e8d9062b",
   "metadata": {},
   "outputs": [
    {
     "name": "stdout",
     "output_type": "stream",
     "text": [
      "120\n"
     ]
    }
   ],
   "source": [
    "# recursion\n",
    "\n",
    "def fact(x):\n",
    "    if x==0 or x==1:\n",
    "        return 1\n",
    "    else:\n",
    "        return x*fact(x-1)\n",
    "    \n",
    "print(fact(5))"
   ]
  },
  {
   "cell_type": "code",
   "execution_count": 98,
   "id": "63ef3567",
   "metadata": {},
   "outputs": [
    {
     "name": "stdout",
     "output_type": "stream",
     "text": [
      "120\n",
      "[1, 9, 25, 49, 81]\n"
     ]
    }
   ],
   "source": [
    "#without recursion\n",
    "\n",
    "m=5\n",
    "fac=1\n",
    "for i in range(1,m+1):\n",
    "    fac=fac*i\n",
    "print(fac)\n",
    "\n",
    "\n",
    "\n",
    "lis=map(lambda x:x*x, filter(lambda x: x%2==1, range(10)))\n",
    "print(list(lis))"
   ]
  }
 ],
 "metadata": {
  "kernelspec": {
   "display_name": "Python 3 (ipykernel)",
   "language": "python",
   "name": "python3"
  },
  "language_info": {
   "codemirror_mode": {
    "name": "ipython",
    "version": 3
   },
   "file_extension": ".py",
   "mimetype": "text/x-python",
   "name": "python",
   "nbconvert_exporter": "python",
   "pygments_lexer": "ipython3",
   "version": "3.9.7"
  }
 },
 "nbformat": 4,
 "nbformat_minor": 5
}
